{
 "cells": [
  {
   "cell_type": "code",
   "execution_count": 26,
   "metadata": {
    "pycharm": {
     "name": "#%%\n"
    }
   },
   "outputs": [],
   "source": [
    "import pandas as pd"
   ]
  },
  {
   "cell_type": "code",
   "execution_count": 27,
   "metadata": {
    "pycharm": {
     "name": "#%%\n"
    }
   },
   "outputs": [],
   "source": [
    "# df = pd.read_csv(\"data/testData/tvData.csv\")\n",
    "df = pd.read_csv(\"data/final/combinedTVData.csv\")"
   ]
  },
  {
   "cell_type": "code",
   "execution_count": 28,
   "metadata": {
    "pycharm": {
     "name": "#%%\n"
    }
   },
   "outputs": [
    {
     "data": {
      "text/plain": "   index  Unnamed: 0   Tomatometer Audience Score  \\\n0      0           0           92%            25%   \n1      1           1           67%            43%   \n2      2           2  No Score Yet            60%   \n3      3           3  No Score Yet            46%   \n4      4           4           33%            41%   \n\n                              Title                     Character Box Office  \\\n0                     The Assistant              Jane (Character)      $1.1M   \n1           Tomato Red: Blood Money  Jamalee Merridew (Character)      $4.2K   \n2  Everything Beautiful Is Far Away              Rola (Character)          -   \n3            One Percent More Humid         Catherine (Character)          -   \n4                         Good Kids           Tinsley (Character)          -   \n\n   Year          Cast  \n0  2019  Julia Garner  \n1  2017  Julia Garner  \n2  2017  Julia Garner  \n3  2017  Julia Garner  \n4  2016  Julia Garner  ",
      "text/html": "<div>\n<style scoped>\n    .dataframe tbody tr th:only-of-type {\n        vertical-align: middle;\n    }\n\n    .dataframe tbody tr th {\n        vertical-align: top;\n    }\n\n    .dataframe thead th {\n        text-align: right;\n    }\n</style>\n<table border=\"1\" class=\"dataframe\">\n  <thead>\n    <tr style=\"text-align: right;\">\n      <th></th>\n      <th>index</th>\n      <th>Unnamed: 0</th>\n      <th>Tomatometer</th>\n      <th>Audience Score</th>\n      <th>Title</th>\n      <th>Character</th>\n      <th>Box Office</th>\n      <th>Year</th>\n      <th>Cast</th>\n    </tr>\n  </thead>\n  <tbody>\n    <tr>\n      <th>0</th>\n      <td>0</td>\n      <td>0</td>\n      <td>92%</td>\n      <td>25%</td>\n      <td>The Assistant</td>\n      <td>Jane (Character)</td>\n      <td>$1.1M</td>\n      <td>2019</td>\n      <td>Julia Garner</td>\n    </tr>\n    <tr>\n      <th>1</th>\n      <td>1</td>\n      <td>1</td>\n      <td>67%</td>\n      <td>43%</td>\n      <td>Tomato Red: Blood Money</td>\n      <td>Jamalee Merridew (Character)</td>\n      <td>$4.2K</td>\n      <td>2017</td>\n      <td>Julia Garner</td>\n    </tr>\n    <tr>\n      <th>2</th>\n      <td>2</td>\n      <td>2</td>\n      <td>No Score Yet</td>\n      <td>60%</td>\n      <td>Everything Beautiful Is Far Away</td>\n      <td>Rola (Character)</td>\n      <td>-</td>\n      <td>2017</td>\n      <td>Julia Garner</td>\n    </tr>\n    <tr>\n      <th>3</th>\n      <td>3</td>\n      <td>3</td>\n      <td>No Score Yet</td>\n      <td>46%</td>\n      <td>One Percent More Humid</td>\n      <td>Catherine (Character)</td>\n      <td>-</td>\n      <td>2017</td>\n      <td>Julia Garner</td>\n    </tr>\n    <tr>\n      <th>4</th>\n      <td>4</td>\n      <td>4</td>\n      <td>33%</td>\n      <td>41%</td>\n      <td>Good Kids</td>\n      <td>Tinsley (Character)</td>\n      <td>-</td>\n      <td>2016</td>\n      <td>Julia Garner</td>\n    </tr>\n  </tbody>\n</table>\n</div>"
     },
     "execution_count": 28,
     "metadata": {},
     "output_type": "execute_result"
    }
   ],
   "source": [
    "df.head()"
   ]
  },
  {
   "cell_type": "code",
   "execution_count": 29,
   "metadata": {
    "pycharm": {
     "name": "#%%\n"
    }
   },
   "outputs": [
    {
     "data": {
      "text/plain": "   index   Tomatometer Audience_Score                             Title  \\\n0      0           92%            25%                     The Assistant   \n1      1           67%            43%           Tomato Red: Blood Money   \n2      2  No Score Yet            60%  Everything Beautiful Is Far Away   \n3      3  No Score Yet            46%            One Percent More Humid   \n4      4           33%            41%                         Good Kids   \n\n                      Character Box_Office  Year          Cast  \n0              Jane (Character)      $1.1M  2019  Julia Garner  \n1  Jamalee Merridew (Character)      $4.2K  2017  Julia Garner  \n2              Rola (Character)          -  2017  Julia Garner  \n3         Catherine (Character)          -  2017  Julia Garner  \n4           Tinsley (Character)          -  2016  Julia Garner  ",
      "text/html": "<div>\n<style scoped>\n    .dataframe tbody tr th:only-of-type {\n        vertical-align: middle;\n    }\n\n    .dataframe tbody tr th {\n        vertical-align: top;\n    }\n\n    .dataframe thead th {\n        text-align: right;\n    }\n</style>\n<table border=\"1\" class=\"dataframe\">\n  <thead>\n    <tr style=\"text-align: right;\">\n      <th></th>\n      <th>index</th>\n      <th>Tomatometer</th>\n      <th>Audience_Score</th>\n      <th>Title</th>\n      <th>Character</th>\n      <th>Box_Office</th>\n      <th>Year</th>\n      <th>Cast</th>\n    </tr>\n  </thead>\n  <tbody>\n    <tr>\n      <th>0</th>\n      <td>0</td>\n      <td>92%</td>\n      <td>25%</td>\n      <td>The Assistant</td>\n      <td>Jane (Character)</td>\n      <td>$1.1M</td>\n      <td>2019</td>\n      <td>Julia Garner</td>\n    </tr>\n    <tr>\n      <th>1</th>\n      <td>1</td>\n      <td>67%</td>\n      <td>43%</td>\n      <td>Tomato Red: Blood Money</td>\n      <td>Jamalee Merridew (Character)</td>\n      <td>$4.2K</td>\n      <td>2017</td>\n      <td>Julia Garner</td>\n    </tr>\n    <tr>\n      <th>2</th>\n      <td>2</td>\n      <td>No Score Yet</td>\n      <td>60%</td>\n      <td>Everything Beautiful Is Far Away</td>\n      <td>Rola (Character)</td>\n      <td>-</td>\n      <td>2017</td>\n      <td>Julia Garner</td>\n    </tr>\n    <tr>\n      <th>3</th>\n      <td>3</td>\n      <td>No Score Yet</td>\n      <td>46%</td>\n      <td>One Percent More Humid</td>\n      <td>Catherine (Character)</td>\n      <td>-</td>\n      <td>2017</td>\n      <td>Julia Garner</td>\n    </tr>\n    <tr>\n      <th>4</th>\n      <td>4</td>\n      <td>33%</td>\n      <td>41%</td>\n      <td>Good Kids</td>\n      <td>Tinsley (Character)</td>\n      <td>-</td>\n      <td>2016</td>\n      <td>Julia Garner</td>\n    </tr>\n  </tbody>\n</table>\n</div>"
     },
     "execution_count": 29,
     "metadata": {},
     "output_type": "execute_result"
    }
   ],
   "source": [
    "tempDf = df\n",
    "#change column names\n",
    "tempDf = tempDf.rename({'Unnamed: 0': 'Id', 'Audience Score': 'Audience_Score', 'Box Office': 'Box_Office'}, axis=1)\n",
    "tempDf.drop('Id', axis=1, inplace=True)\n",
    "tempDf.head()"
   ]
  },
  {
   "cell_type": "code",
   "execution_count": 30,
   "metadata": {
    "pycharm": {
     "name": "#%%\n"
    }
   },
   "outputs": [
    {
     "data": {
      "text/plain": "index             962852\nTomatometer       962852\nAudience_Score    962852\nTitle             962852\nCharacter         962852\nBox_Office        962852\nYear              962852\nCast              959805\ndtype: int64"
     },
     "execution_count": 30,
     "metadata": {},
     "output_type": "execute_result"
    }
   ],
   "source": [
    "tempDf.count()"
   ]
  },
  {
   "cell_type": "code",
   "execution_count": 31,
   "metadata": {
    "pycharm": {
     "name": "#%%\n"
    }
   },
   "outputs": [],
   "source": [
    "# removeTerms = [\"Director\", \"Music Performer\", \"Screenwriter\", \"Producer\", \"Cinematographer\", \"Production\", \"Writer\"]\n",
    "# # tempDf[~tempDf['Character'].isin(removeTerms)]\n",
    "# tempDf[~tempDf['Character'].str.contains(\"|\".join(removeTerms))]\n",
    "# # tempDf = tempDf[tempDf['Character'].str.contains('Director') | tempDf['Character'].str.contains('Guest') | tempDf['Character'].str.contains('Music Performer') | tempDf['Character'].str.contains('Screenwriter') | tempDf['Character'].str.contains('Producer')]\n",
    "# tempDf.sample(300)"
   ]
  },
  {
   "cell_type": "code",
   "execution_count": 32,
   "metadata": {
    "pycharm": {
     "name": "#%%\n"
    }
   },
   "outputs": [
    {
     "data": {
      "text/plain": "index             962852\nTomatometer       962852\nAudience_Score    962852\nTitle             962852\nCharacter         962852\nBox_Office        962852\nYear              962852\nCast              959805\ndtype: int64"
     },
     "execution_count": 32,
     "metadata": {},
     "output_type": "execute_result"
    }
   ],
   "source": [
    "tempDf.count()"
   ]
  },
  {
   "cell_type": "code",
   "execution_count": 33,
   "metadata": {
    "pycharm": {
     "name": "#%%\n"
    }
   },
   "outputs": [
    {
     "data": {
      "text/plain": "index             962852\nTomatometer       962852\nAudience_Score    962852\nTitle             962852\nCharacter         962852\nBox_Office        962852\nYear              962852\nCast              962852\ndtype: int64"
     },
     "execution_count": 33,
     "metadata": {},
     "output_type": "execute_result"
    }
   ],
   "source": [
    "# temp2Df = tempDf.groupby('Title').apply(lambda x: \",\".join(x['Cast']))\n",
    "tempDf.fillna(\"\", inplace=True)\n",
    "tempDf.count()"
   ]
  },
  {
   "cell_type": "code",
   "execution_count": 34,
   "outputs": [],
   "source": [
    "tempDf.drop_duplicates(['Cast','Title', 'Tomatometer', 'Box_Office'],inplace=True)"
   ],
   "metadata": {
    "collapsed": false,
    "pycharm": {
     "name": "#%%\n"
    }
   }
  },
  {
   "cell_type": "code",
   "execution_count": 35,
   "metadata": {
    "pycharm": {
     "name": "#%%\n"
    }
   },
   "outputs": [
    {
     "data": {
      "text/plain": "                                                    Title  \\\n120502                          Your Home is My Business!   \n116976                                Welcome to New York   \n22766                                 Creative Nonfiction   \n73670                                  Punisher: War Zone   \n65571                                  New York, New York   \n71244                                     Peter the Great   \n80258                                            Security   \n105806              The Sisterhood of the Traveling Pants   \n19623                   Child of Darkness, Child of Light   \n4170                                      Aapathbandavudu   \n36051                                    Frontier Outlaws   \n51798                                           Kummeli V   \n45370                                          Icebreaker   \n65813                                     Night Must Fall   \n29854                     Eden of the East: Paradise Lost   \n113468                                  UFO Investigation   \n6750                                       Amelia Earhart   \n30714                                         Empire City   \n49567                               Just Before Nightfall   \n44843                                 I Love You, Eugenio   \n16711                                                Bull   \n6787    America's Choice 2020: Democratic National Con...   \n72940                                  Pretty Proofreader   \n71637                                     Pinky Moge Wali   \n114714                                        Vallanzasca   \n20358                                       Cinema Verite   \n58385                                  Man Without a Star   \n36795                                           Gargoyles   \n91436                                   The Big Shakedown   \n78872                                 Sanjay's Super Team   \n8922                                            Armstrong   \n43339                                       Hopper/Welles   \n1975                                   A Demon in My View   \n118332                                       Wicked Minds   \n118006                                    White Lightning   \n5020                                       Africa paradis   \n114819                                       Vampitheatre   \n47188                                          Iron Man 3   \n62272                                         Moonshiners   \n111198                        Tokyo: The Last Megalopolis   \n15152                                               Bongu   \n1172                                   60 Vayadu Maaniram   \n85479                                             Standby   \n92329                                   The Butcher's Son   \n4473                                     Access Hollywood   \n58089                                   Make Like a Thief   \n28989                                         Dreamstates   \n24391                                      Dark Seduction   \n55257                                     Live Nude Girls   \n72778                                       Precious Find   \n\n                                                     Cast  \\\n120502                                     Keiko Kitagawa   \n116976  Sonakshi Sinha, Lara Dutta, Karan Johar, Boman...   \n22766                                         Lena Dunham   \n73670   Ray Stevenson, Julie Benz, Dominic West, Avi A...   \n65571   Martin Scorsese, Barry Primus, George Memmoli,...   \n71244   Vanessa Redgrave, Helmut Griem, Laurence Olivi...   \n80258   Antonio Banderas, Ben Kingsley, Valeria Bilell...   \n105806  Blake Lively, Alexis Bledel, America Ferrera, ...   \n19623   Sela Ward, Claudette Nevins, Paxton Whitehead,...   \n4170                            Chiranjeevi, Brahmanandam   \n36051                                       Buster Crabbe   \n51798                                      Iina Kuustonen   \n45370             Sean Astin, Bruce Campbell, Stacy Keach   \n65813   Albert Finney, Kathleen Harrison, Karel Reisz,...   \n29854                     Jason Liebrecht, Kenji Kamiyama   \n113468                                        Tom DeLonge   \n6750    Susan Oliver, Charles Aidman, Catherine Burns,...   \n30714   Mary Mara, Ron Vawter, Robin Christopher, Mich...   \n49567                     Claude Chabrol, Stéphane Audran   \n44843                  Jacques Perrin, Giancarlo Giannini   \n16711   Willa Fitzgerald, Minka Kelly, Malcolm Goodwin...   \n6787                                      Anderson Cooper   \n72940                        Satomi Ishihara, Masaki Suda   \n71637                                         Neeru Bajwa   \n114714  Paz Vega, Gaetano Bruno, Michele Placido, Kim ...   \n20358   James Gandolfini, Tim Robbins, Kathleen Quinla...   \n58385   King Vidor, Kirk Douglas, Jeanne Crain, Richar...   \n36795   Keith David, Ed Asner, Brigitte Bako, Jonathan...   \n91436   Bette Davis, Glenda Farrell, Ricardo Cortez, C...   \n78872                                       John Lasseter   \n8922                                        Harrison Ford   \n43339            Gary Graver, Dennis Hopper, Orson Welles   \n1975                         Anthony Perkins, Sophie Ward   \n118332                   Andrew W. Walker, Angie Everhart   \n118006  Burt Reynolds, Louise Latham, Joseph Sargent, ...   \n5020                                        Eriq Ebouaney   \n114819                                     Linnea Quigley   \n47188   Jon Favreau, Paul Bettany, Guy Pearce, Gwyneth...   \n62272                                     Jeremy Schwartz   \n111198                                     Shintarô Katsu   \n15152                                       Atul Kulkarni   \n1172                           Prakash Raj, Samuthirakani   \n85479                           Andrew Paul, Alexa Morden   \n92329   Manny Perez, Denise Quiñones, Margo Martindale...   \n4473    Zendaya, Laverne Cox, Tom Holland, Katie Lowes...   \n58089                                        Richard Long   \n28989                                     William Nadylam   \n24391     Elizabeth Cervantes, Joe Alaskey, Stacey Travis   \n55257   Mindy Robinson, Dave Foley, Kristen DeLuca, An...   \n72778   Rutger Hauer, Philippe Mora, Brion James, Joan...   \n\n                                              Tomatometer  \\\n120502                                       No Score Yet   \n116976                       14%, 14%, 14%, 14%, 14%, 14%   \n22766                                        No Score Yet   \n73670   29%, 29%, 29%, 29%, 29%, 29%, 29%, 29%, 29%, 2...   \n65571                        57%, 57%, 57%, 57%, 57%, 57%   \n71244   No Score Yet, No Score Yet, No Score Yet, No S...   \n80258   No Score Yet, No Score Yet, No Score Yet, No S...   \n105806  77%, 77%, 77%, 77%, 77%, 77%, 77%, 77%, 77%, 7...   \n19623   No Score Yet, No Score Yet, No Score Yet, No S...   \n4170                           No Score Yet, No Score Yet   \n36051                                        No Score Yet   \n51798                                        No Score Yet   \n45370            No Score Yet, No Score Yet, No Score Yet   \n65813   No Score Yet, No Score Yet, No Score Yet, No S...   \n29854                          No Score Yet, No Score Yet   \n113468                                       No Score Yet   \n6750    No Score Yet, No Score Yet, No Score Yet, No S...   \n30714   No Score Yet, No Score Yet, No Score Yet, No S...   \n49567                          No Score Yet, No Score Yet   \n44843                          No Score Yet, No Score Yet   \n16711   No Score Yet, No Score Yet, No Score Yet, No S...   \n6787                                         No Score Yet   \n72940                          No Score Yet, No Score Yet   \n71637                                        No Score Yet   \n114714                                 52%, 52%, 52%, 52%   \n20358                   61%, 61%, 61%, 61%, 61%, 61%, 61%   \n58385   No Score Yet, No Score Yet, No Score Yet, No S...   \n36795   No Score Yet, No Score Yet, No Score Yet, No S...   \n91436   No Score Yet, No Score Yet, No Score Yet, No S...   \n78872                                                 78%   \n8922                                                  75%   \n43339                                       88%, 88%, 88%   \n1975                           No Score Yet, No Score Yet   \n118332                         No Score Yet, No Score Yet   \n118006   75%, 75%, 75%, 75%, 75%, 75%, 75%, 75%, 75%, 75%   \n5020                                         No Score Yet   \n114819                                       No Score Yet   \n47188   79%, 79%, 79%, 79%, 79%, 79%, 79%, 79%, 79%, 7...   \n62272                                        No Score Yet   \n111198                                       No Score Yet   \n15152                                        No Score Yet   \n1172                           No Score Yet, No Score Yet   \n85479                          No Score Yet, No Score Yet   \n92329                             44%, 44%, 44%, 44%, 44%   \n4473    No Score Yet, No Score Yet, No Score Yet, No S...   \n58089                                        No Score Yet   \n28989                                        No Score Yet   \n24391            No Score Yet, No Score Yet, No Score Yet   \n55257   No Score Yet, No Score Yet, No Score Yet, No S...   \n72778   No Score Yet, No Score Yet, No Score Yet, No S...   \n\n                                           Audience_Score  \\\n120502                                       No Score Yet   \n116976  No Score Yet, No Score Yet, No Score Yet, No S...   \n22766                                                 32%   \n73670   42%, 42%, 42%, 42%, 42%, 42%, 42%, 42%, 42%, 4...   \n65571                        58%, 58%, 58%, 58%, 58%, 58%   \n71244   No Score Yet, No Score Yet, No Score Yet, No S...   \n80258   33%, 33%, No Score Yet, No Score Yet, No Score...   \n105806  78%, 78%, 78%, 78%, 78%, 78%, 78%, 78%, 78%, 7...   \n19623                        21%, 21%, 21%, 21%, 21%, 21%   \n4170                           No Score Yet, No Score Yet   \n36051                                        No Score Yet   \n51798                                                  7%   \n45370                                       21%, 21%, 21%   \n65813                   55%, 78%, 55%, 55%, 78%, 55%, 78%   \n29854                          No Score Yet, No Score Yet   \n113468                                                89%   \n6750    No Score Yet, No Score Yet, No Score Yet, No S...   \n30714   No Score Yet, No Score Yet, No Score Yet, No S...   \n49567                                            80%, 80%   \n44843                                          100%, 100%   \n16711   61%, 61%, 61%, 61%, 61%, 61%, 61%, 61%, No Sco...   \n6787                                         No Score Yet   \n72940                          No Score Yet, No Score Yet   \n71637                                        No Score Yet   \n114714                                 48%, 48%, 48%, 48%   \n20358                   60%, 60%, 60%, 60%, 60%, 60%, 60%   \n58385                             64%, 64%, 64%, 64%, 64%   \n36795   No Score Yet, No Score Yet, No Score Yet, No S...   \n91436                                  30%, 30%, 30%, 30%   \n78872                                                 76%   \n8922                                                  74%   \n43339            No Score Yet, No Score Yet, No Score Yet   \n1975                                             12%, 12%   \n118332                                           15%, 15%   \n118006   62%, 62%, 62%, 62%, 62%, 62%, 62%, 62%, 62%, 62%   \n5020                                         No Score Yet   \n114819                                       No Score Yet   \n47188   78%, 78%, 78%, 78%, 78%, 78%, 78%, 78%, 78%, 7...   \n62272                                        No Score Yet   \n111198                                                42%   \n15152                                        No Score Yet   \n1172                           No Score Yet, No Score Yet   \n85479                          No Score Yet, No Score Yet   \n92329                             73%, 73%, 73%, 73%, 73%   \n4473    No Score Yet, No Score Yet, No Score Yet, No S...   \n58089                                        No Score Yet   \n28989                                        No Score Yet   \n24391            No Score Yet, No Score Yet, No Score Yet   \n55257                             54%, 54%, 54%, 54%, 54%   \n72778                                  8%, 8%, 8%, 8%, 8%   \n\n                                                Character  \\\n120502                                Unknown (Character)   \n116976  Unknown (Character), Unknown (Character), Unkn...   \n22766              Ella (Character),Director,Screenwriter   \n73670   Frank Castle/The Punisher (Character), Angela ...   \n65571   Director, Paul Wilson (Character), Nicky (Char...   \n71244   Sophia (Character), Alexander Menshikov (Chara...   \n80258   Eduardo \"Eddie\" Deacon (Character), Charlie (C...   \n105806  Bridget (Character), Lena Kaligaris (Character...   \n19623   Sister Anne (Character), Lenore Beavier (Chara...   \n4170             Madhava (Character), Unknown (Character)   \n36051                            Billy Carson (Character)   \n51798                                   Tupsu (Character)   \n45370   Matt Foster (Character), Carl Greig (Character...   \n65813   Danny (Character),Producer, Mrs. Terence (Char...   \n29854       Akira Takizawa (Voice), Director,Screenwriter   \n113468             Unknown (Character),Executive Producer   \n6750    Neta Snook \"Snookie\" (Character), Mr. Earhardt...   \n30714   Nancy Kraus (Character), Unknown (Character), ...   \n49567                Director,Writer, Unknown (Character)   \n44843           Federico (Character), Eugenio (Character)   \n16711   Susan Bryant (Guest Star), Kara Clayton (Guest...   \n6787                                               Anchor   \n72940            Unknown (Character), Unknown (Character)   \n71637                                   Pinky (Character)   \n114714  Antonella D'Agostino (Character), Fausto (Char...   \n20358   Craig Gilbert (Character), Bill Loud (Characte...   \n58385   Director, Dempsey Rae (Character), Reed Bowman...   \n36795   Goliath (Voice), Hudson (Voice), Angela (Voice...   \n91436   Norma Nelson (Character), Lily \"Lil\" Duran (Ch...   \n78872                                  Executive Producer   \n8922                                             Narrator   \n43339                Cinematographer, Self, Self,Director   \n1975    Arthur Johnson (Character), Helen Schweizer (C...   \n118332         Holden Price (Character), Lana (Character)   \n118006  Gator McKlusky (Character), Martha Culpepper (...   \n5020                                  M'Doula (Character)   \n114819                              The Queen (Character)   \n47188   Happy Hogan (Character),Executive Producer, Ja...   \n62272                                            Narrator   \n111198                            Eichi Shibusawa (Voice)   \n15152                                 Unknown (Character)   \n1172          Govindarajan (Character), Ranga (Character)   \n85479                 Gary (Character), Jenny (Character)   \n92329   Luisito (Character),Screenwriter, Jenny (Chara...   \n4473    Guest, Guest, Guest, Guest, Guest, Guest, Gues...   \n58089      V. Bartley \"Bart\" Lanigan (Character),Director   \n28989                                                Self   \n24391   Laura (Character), Fatman (Character), Laura (...   \n55257   Amber (Character), Harry (Character), Layla (C...   \n72778   Armond Crille (Character), Director, Sam Horto...   \n\n                                               Box_Office  \\\n120502                                                  -   \n116976  $118.3K, $118.3K, $118.3K, $118.3K, $118.3K, $...   \n22766                                                   -   \n73670   $7.9M, $7.9M, $7.9M, $7.9M, $7.9M, $7.9M, $7.9...   \n65571      $91.9K, $91.9K, $91.9K, $91.9K, $91.9K, $91.9K   \n71244                                 -, -, -, -, -, -, -   \n80258                        -, -, -, -, -, -, -, -, -, -   \n105806  $39.0M, $39.0M, $39.0M, $39.0M, $39.0M, $39.0M...   \n19623                                    -, -, -, -, -, -   \n4170                                                 -, -   \n36051                                                   -   \n51798                                                   -   \n45370                                             -, -, -   \n65813                                 -, -, -, -, -, -, -   \n29854                                                -, -   \n113468                                                  -   \n6750                   -, -, -, -, -, -, -, -, -, -, -, -   \n30714                                          -, -, -, -   \n49567                                                -, -   \n44843                                                -, -   \n16711   -, -, -, -, -, -, -, -, -, -, -, -, -, -, -, -...   \n6787                                                    -   \n72940                                                -, -   \n71637                                                   -   \n114714                                         -, -, -, -   \n20358                                 -, -, -, -, -, -, -   \n58385                                       -, -, -, -, -   \n36795                                    -, -, -, -, -, -   \n91436                                          -, -, -, -   \n78872                                                   -   \n8922                                                    -   \n43339                                             -, -, -   \n1975                                                 -, -   \n118332                                               -, -   \n118006                       -, -, -, -, -, -, -, -, -, -   \n5020                                                    -   \n114819                                                  -   \n47188   $409.0M, $409.0M, $409.0M, $409.0M, $409.0M, $...   \n62272                                                   -   \n111198                                                  -   \n15152                                                   -   \n1172                                                 -, -   \n85479                                                -, -   \n92329         $210.6K, $210.6K, $210.6K, $210.6K, $210.6K   \n4473    -, -, -, -, -, -, -, -, -, -, -, -, -, -, -, -...   \n58089                                                   -   \n28989                                                   -   \n24391                                             -, -, -   \n55257                                       -, -, -, -, -   \n72778                                       -, -, -, -, -   \n\n                                                     Year  \n120502                                               2020  \n116976                 2018, 2018, 2018, 2018, 2018, 2018  \n22766                                                2009  \n73670   2008, 2008, 2008, 2008, 2008, 2008, 2008, 2008...  \n65571                  1977, 1977, 1977, 1977, 1977, 1977  \n71244            1986, 1986, 1986, 1986, 1986, 1986, 1986  \n80258   2016, 2016, 2021, 2003, 2021, 2021, 2021, 2016...  \n105806  2005, 2005, 2005, 2005, 2005, 2005, 2005, 2005...  \n19623                  1991, 1991, 1991, 1991, 1991, 1991  \n4170                                           1992, 1992  \n36051                                                1944  \n51798                                                2014  \n45370                                    2000, 2000, 2000  \n65813            1964, 1937, 1964, 1964, 1937, 1964, 1937  \n29854                                          2011, 2011  \n113468                                          2019-2021  \n6750    1976, 1976, 1976, 1976, 1976, 1976, 1976, 1976...  \n30714                              1991, 1991, 1991, 1991  \n49567                                          1971, 1971  \n44843                                          2002, 2002  \n16711   2017, 2017, 2019, 2019, 2019, 2018, 2017, 2017...  \n6787                                                 2020  \n72940                                          2016, 2016  \n71637                                                2012  \n114714                             2010, 2010, 2010, 2010  \n20358            2011, 2011, 2011, 2011, 2011, 2011, 2011  \n58385                        1955, 1955, 1955, 1955, 1955  \n36795   1996-1997, 1996-1997, 1996-1997, 1996-1997, 19...  \n91436                              1934, 1934, 1934, 1934  \n78872                                                2015  \n8922                                                 2019  \n43339                                    2020, 2020, 2020  \n1975                                           1991, 1991  \n118332                                         2002, 2002  \n118006  1973, 1973, 1973, 1973, 1973, 1973, 1973, 1973...  \n5020                                                 2006  \n114819                                               2009  \n47188   2013, 2013, 2013, 2013, 2013, 2013, 2013, 2013...  \n62272                                           2011-2022  \n111198                                               1988  \n15152                                                2017  \n1172                                           2018, 2018  \n85479                                          2016, 2016  \n92329                        2009, 2009, 2009, 2009, 2009  \n4473    201620192021-2022, 2016-2017, 2021, 2015, 2019...  \n58089                                                1966  \n28989                                                2016  \n24391                                    2011, 2015, 2015  \n55257                        2014, 2014, 2014, 2014, 2014  \n72778                        1996, 1996, 1996, 1996, 1996  ",
      "text/html": "<div>\n<style scoped>\n    .dataframe tbody tr th:only-of-type {\n        vertical-align: middle;\n    }\n\n    .dataframe tbody tr th {\n        vertical-align: top;\n    }\n\n    .dataframe thead th {\n        text-align: right;\n    }\n</style>\n<table border=\"1\" class=\"dataframe\">\n  <thead>\n    <tr style=\"text-align: right;\">\n      <th></th>\n      <th>Title</th>\n      <th>Cast</th>\n      <th>Tomatometer</th>\n      <th>Audience_Score</th>\n      <th>Character</th>\n      <th>Box_Office</th>\n      <th>Year</th>\n    </tr>\n  </thead>\n  <tbody>\n    <tr>\n      <th>120502</th>\n      <td>Your Home is My Business!</td>\n      <td>Keiko Kitagawa</td>\n      <td>No Score Yet</td>\n      <td>No Score Yet</td>\n      <td>Unknown (Character)</td>\n      <td>-</td>\n      <td>2020</td>\n    </tr>\n    <tr>\n      <th>116976</th>\n      <td>Welcome to New York</td>\n      <td>Sonakshi Sinha, Lara Dutta, Karan Johar, Boman...</td>\n      <td>14%, 14%, 14%, 14%, 14%, 14%</td>\n      <td>No Score Yet, No Score Yet, No Score Yet, No S...</td>\n      <td>Unknown (Character), Unknown (Character), Unkn...</td>\n      <td>$118.3K, $118.3K, $118.3K, $118.3K, $118.3K, $...</td>\n      <td>2018, 2018, 2018, 2018, 2018, 2018</td>\n    </tr>\n    <tr>\n      <th>22766</th>\n      <td>Creative Nonfiction</td>\n      <td>Lena Dunham</td>\n      <td>No Score Yet</td>\n      <td>32%</td>\n      <td>Ella (Character),Director,Screenwriter</td>\n      <td>-</td>\n      <td>2009</td>\n    </tr>\n    <tr>\n      <th>73670</th>\n      <td>Punisher: War Zone</td>\n      <td>Ray Stevenson, Julie Benz, Dominic West, Avi A...</td>\n      <td>29%, 29%, 29%, 29%, 29%, 29%, 29%, 29%, 29%, 2...</td>\n      <td>42%, 42%, 42%, 42%, 42%, 42%, 42%, 42%, 42%, 4...</td>\n      <td>Frank Castle/The Punisher (Character), Angela ...</td>\n      <td>$7.9M, $7.9M, $7.9M, $7.9M, $7.9M, $7.9M, $7.9...</td>\n      <td>2008, 2008, 2008, 2008, 2008, 2008, 2008, 2008...</td>\n    </tr>\n    <tr>\n      <th>65571</th>\n      <td>New York, New York</td>\n      <td>Martin Scorsese, Barry Primus, George Memmoli,...</td>\n      <td>57%, 57%, 57%, 57%, 57%, 57%</td>\n      <td>58%, 58%, 58%, 58%, 58%, 58%</td>\n      <td>Director, Paul Wilson (Character), Nicky (Char...</td>\n      <td>$91.9K, $91.9K, $91.9K, $91.9K, $91.9K, $91.9K</td>\n      <td>1977, 1977, 1977, 1977, 1977, 1977</td>\n    </tr>\n    <tr>\n      <th>71244</th>\n      <td>Peter the Great</td>\n      <td>Vanessa Redgrave, Helmut Griem, Laurence Olivi...</td>\n      <td>No Score Yet, No Score Yet, No Score Yet, No S...</td>\n      <td>No Score Yet, No Score Yet, No Score Yet, No S...</td>\n      <td>Sophia (Character), Alexander Menshikov (Chara...</td>\n      <td>-, -, -, -, -, -, -</td>\n      <td>1986, 1986, 1986, 1986, 1986, 1986, 1986</td>\n    </tr>\n    <tr>\n      <th>80258</th>\n      <td>Security</td>\n      <td>Antonio Banderas, Ben Kingsley, Valeria Bilell...</td>\n      <td>No Score Yet, No Score Yet, No Score Yet, No S...</td>\n      <td>33%, 33%, No Score Yet, No Score Yet, No Score...</td>\n      <td>Eduardo \"Eddie\" Deacon (Character), Charlie (C...</td>\n      <td>-, -, -, -, -, -, -, -, -, -</td>\n      <td>2016, 2016, 2021, 2003, 2021, 2021, 2021, 2016...</td>\n    </tr>\n    <tr>\n      <th>105806</th>\n      <td>The Sisterhood of the Traveling Pants</td>\n      <td>Blake Lively, Alexis Bledel, America Ferrera, ...</td>\n      <td>77%, 77%, 77%, 77%, 77%, 77%, 77%, 77%, 77%, 7...</td>\n      <td>78%, 78%, 78%, 78%, 78%, 78%, 78%, 78%, 78%, 7...</td>\n      <td>Bridget (Character), Lena Kaligaris (Character...</td>\n      <td>$39.0M, $39.0M, $39.0M, $39.0M, $39.0M, $39.0M...</td>\n      <td>2005, 2005, 2005, 2005, 2005, 2005, 2005, 2005...</td>\n    </tr>\n    <tr>\n      <th>19623</th>\n      <td>Child of Darkness, Child of Light</td>\n      <td>Sela Ward, Claudette Nevins, Paxton Whitehead,...</td>\n      <td>No Score Yet, No Score Yet, No Score Yet, No S...</td>\n      <td>21%, 21%, 21%, 21%, 21%, 21%</td>\n      <td>Sister Anne (Character), Lenore Beavier (Chara...</td>\n      <td>-, -, -, -, -, -</td>\n      <td>1991, 1991, 1991, 1991, 1991, 1991</td>\n    </tr>\n    <tr>\n      <th>4170</th>\n      <td>Aapathbandavudu</td>\n      <td>Chiranjeevi, Brahmanandam</td>\n      <td>No Score Yet, No Score Yet</td>\n      <td>No Score Yet, No Score Yet</td>\n      <td>Madhava (Character), Unknown (Character)</td>\n      <td>-, -</td>\n      <td>1992, 1992</td>\n    </tr>\n    <tr>\n      <th>36051</th>\n      <td>Frontier Outlaws</td>\n      <td>Buster Crabbe</td>\n      <td>No Score Yet</td>\n      <td>No Score Yet</td>\n      <td>Billy Carson (Character)</td>\n      <td>-</td>\n      <td>1944</td>\n    </tr>\n    <tr>\n      <th>51798</th>\n      <td>Kummeli V</td>\n      <td>Iina Kuustonen</td>\n      <td>No Score Yet</td>\n      <td>7%</td>\n      <td>Tupsu (Character)</td>\n      <td>-</td>\n      <td>2014</td>\n    </tr>\n    <tr>\n      <th>45370</th>\n      <td>Icebreaker</td>\n      <td>Sean Astin, Bruce Campbell, Stacy Keach</td>\n      <td>No Score Yet, No Score Yet, No Score Yet</td>\n      <td>21%, 21%, 21%</td>\n      <td>Matt Foster (Character), Carl Greig (Character...</td>\n      <td>-, -, -</td>\n      <td>2000, 2000, 2000</td>\n    </tr>\n    <tr>\n      <th>65813</th>\n      <td>Night Must Fall</td>\n      <td>Albert Finney, Kathleen Harrison, Karel Reisz,...</td>\n      <td>No Score Yet, No Score Yet, No Score Yet, No S...</td>\n      <td>55%, 78%, 55%, 55%, 78%, 55%, 78%</td>\n      <td>Danny (Character),Producer, Mrs. Terence (Char...</td>\n      <td>-, -, -, -, -, -, -</td>\n      <td>1964, 1937, 1964, 1964, 1937, 1964, 1937</td>\n    </tr>\n    <tr>\n      <th>29854</th>\n      <td>Eden of the East: Paradise Lost</td>\n      <td>Jason Liebrecht, Kenji Kamiyama</td>\n      <td>No Score Yet, No Score Yet</td>\n      <td>No Score Yet, No Score Yet</td>\n      <td>Akira Takizawa (Voice), Director,Screenwriter</td>\n      <td>-, -</td>\n      <td>2011, 2011</td>\n    </tr>\n    <tr>\n      <th>113468</th>\n      <td>UFO Investigation</td>\n      <td>Tom DeLonge</td>\n      <td>No Score Yet</td>\n      <td>89%</td>\n      <td>Unknown (Character),Executive Producer</td>\n      <td>-</td>\n      <td>2019-2021</td>\n    </tr>\n    <tr>\n      <th>6750</th>\n      <td>Amelia Earhart</td>\n      <td>Susan Oliver, Charles Aidman, Catherine Burns,...</td>\n      <td>No Score Yet, No Score Yet, No Score Yet, No S...</td>\n      <td>No Score Yet, No Score Yet, No Score Yet, No S...</td>\n      <td>Neta Snook \"Snookie\" (Character), Mr. Earhardt...</td>\n      <td>-, -, -, -, -, -, -, -, -, -, -, -</td>\n      <td>1976, 1976, 1976, 1976, 1976, 1976, 1976, 1976...</td>\n    </tr>\n    <tr>\n      <th>30714</th>\n      <td>Empire City</td>\n      <td>Mary Mara, Ron Vawter, Robin Christopher, Mich...</td>\n      <td>No Score Yet, No Score Yet, No Score Yet, No S...</td>\n      <td>No Score Yet, No Score Yet, No Score Yet, No S...</td>\n      <td>Nancy Kraus (Character), Unknown (Character), ...</td>\n      <td>-, -, -, -</td>\n      <td>1991, 1991, 1991, 1991</td>\n    </tr>\n    <tr>\n      <th>49567</th>\n      <td>Just Before Nightfall</td>\n      <td>Claude Chabrol, Stéphane Audran</td>\n      <td>No Score Yet, No Score Yet</td>\n      <td>80%, 80%</td>\n      <td>Director,Writer, Unknown (Character)</td>\n      <td>-, -</td>\n      <td>1971, 1971</td>\n    </tr>\n    <tr>\n      <th>44843</th>\n      <td>I Love You, Eugenio</td>\n      <td>Jacques Perrin, Giancarlo Giannini</td>\n      <td>No Score Yet, No Score Yet</td>\n      <td>100%, 100%</td>\n      <td>Federico (Character), Eugenio (Character)</td>\n      <td>-, -</td>\n      <td>2002, 2002</td>\n    </tr>\n    <tr>\n      <th>16711</th>\n      <td>Bull</td>\n      <td>Willa Fitzgerald, Minka Kelly, Malcolm Goodwin...</td>\n      <td>No Score Yet, No Score Yet, No Score Yet, No S...</td>\n      <td>61%, 61%, 61%, 61%, 61%, 61%, 61%, 61%, No Sco...</td>\n      <td>Susan Bryant (Guest Star), Kara Clayton (Guest...</td>\n      <td>-, -, -, -, -, -, -, -, -, -, -, -, -, -, -, -...</td>\n      <td>2017, 2017, 2019, 2019, 2019, 2018, 2017, 2017...</td>\n    </tr>\n    <tr>\n      <th>6787</th>\n      <td>America's Choice 2020: Democratic National Con...</td>\n      <td>Anderson Cooper</td>\n      <td>No Score Yet</td>\n      <td>No Score Yet</td>\n      <td>Anchor</td>\n      <td>-</td>\n      <td>2020</td>\n    </tr>\n    <tr>\n      <th>72940</th>\n      <td>Pretty Proofreader</td>\n      <td>Satomi Ishihara, Masaki Suda</td>\n      <td>No Score Yet, No Score Yet</td>\n      <td>No Score Yet, No Score Yet</td>\n      <td>Unknown (Character), Unknown (Character)</td>\n      <td>-, -</td>\n      <td>2016, 2016</td>\n    </tr>\n    <tr>\n      <th>71637</th>\n      <td>Pinky Moge Wali</td>\n      <td>Neeru Bajwa</td>\n      <td>No Score Yet</td>\n      <td>No Score Yet</td>\n      <td>Pinky (Character)</td>\n      <td>-</td>\n      <td>2012</td>\n    </tr>\n    <tr>\n      <th>114714</th>\n      <td>Vallanzasca</td>\n      <td>Paz Vega, Gaetano Bruno, Michele Placido, Kim ...</td>\n      <td>52%, 52%, 52%, 52%</td>\n      <td>48%, 48%, 48%, 48%</td>\n      <td>Antonella D'Agostino (Character), Fausto (Char...</td>\n      <td>-, -, -, -</td>\n      <td>2010, 2010, 2010, 2010</td>\n    </tr>\n    <tr>\n      <th>20358</th>\n      <td>Cinema Verite</td>\n      <td>James Gandolfini, Tim Robbins, Kathleen Quinla...</td>\n      <td>61%, 61%, 61%, 61%, 61%, 61%, 61%</td>\n      <td>60%, 60%, 60%, 60%, 60%, 60%, 60%</td>\n      <td>Craig Gilbert (Character), Bill Loud (Characte...</td>\n      <td>-, -, -, -, -, -, -</td>\n      <td>2011, 2011, 2011, 2011, 2011, 2011, 2011</td>\n    </tr>\n    <tr>\n      <th>58385</th>\n      <td>Man Without a Star</td>\n      <td>King Vidor, Kirk Douglas, Jeanne Crain, Richar...</td>\n      <td>No Score Yet, No Score Yet, No Score Yet, No S...</td>\n      <td>64%, 64%, 64%, 64%, 64%</td>\n      <td>Director, Dempsey Rae (Character), Reed Bowman...</td>\n      <td>-, -, -, -, -</td>\n      <td>1955, 1955, 1955, 1955, 1955</td>\n    </tr>\n    <tr>\n      <th>36795</th>\n      <td>Gargoyles</td>\n      <td>Keith David, Ed Asner, Brigitte Bako, Jonathan...</td>\n      <td>No Score Yet, No Score Yet, No Score Yet, No S...</td>\n      <td>No Score Yet, No Score Yet, No Score Yet, No S...</td>\n      <td>Goliath (Voice), Hudson (Voice), Angela (Voice...</td>\n      <td>-, -, -, -, -, -</td>\n      <td>1996-1997, 1996-1997, 1996-1997, 1996-1997, 19...</td>\n    </tr>\n    <tr>\n      <th>91436</th>\n      <td>The Big Shakedown</td>\n      <td>Bette Davis, Glenda Farrell, Ricardo Cortez, C...</td>\n      <td>No Score Yet, No Score Yet, No Score Yet, No S...</td>\n      <td>30%, 30%, 30%, 30%</td>\n      <td>Norma Nelson (Character), Lily \"Lil\" Duran (Ch...</td>\n      <td>-, -, -, -</td>\n      <td>1934, 1934, 1934, 1934</td>\n    </tr>\n    <tr>\n      <th>78872</th>\n      <td>Sanjay's Super Team</td>\n      <td>John Lasseter</td>\n      <td>78%</td>\n      <td>76%</td>\n      <td>Executive Producer</td>\n      <td>-</td>\n      <td>2015</td>\n    </tr>\n    <tr>\n      <th>8922</th>\n      <td>Armstrong</td>\n      <td>Harrison Ford</td>\n      <td>75%</td>\n      <td>74%</td>\n      <td>Narrator</td>\n      <td>-</td>\n      <td>2019</td>\n    </tr>\n    <tr>\n      <th>43339</th>\n      <td>Hopper/Welles</td>\n      <td>Gary Graver, Dennis Hopper, Orson Welles</td>\n      <td>88%, 88%, 88%</td>\n      <td>No Score Yet, No Score Yet, No Score Yet</td>\n      <td>Cinematographer, Self, Self,Director</td>\n      <td>-, -, -</td>\n      <td>2020, 2020, 2020</td>\n    </tr>\n    <tr>\n      <th>1975</th>\n      <td>A Demon in My View</td>\n      <td>Anthony Perkins, Sophie Ward</td>\n      <td>No Score Yet, No Score Yet</td>\n      <td>12%, 12%</td>\n      <td>Arthur Johnson (Character), Helen Schweizer (C...</td>\n      <td>-, -</td>\n      <td>1991, 1991</td>\n    </tr>\n    <tr>\n      <th>118332</th>\n      <td>Wicked Minds</td>\n      <td>Andrew W. Walker, Angie Everhart</td>\n      <td>No Score Yet, No Score Yet</td>\n      <td>15%, 15%</td>\n      <td>Holden Price (Character), Lana (Character)</td>\n      <td>-, -</td>\n      <td>2002, 2002</td>\n    </tr>\n    <tr>\n      <th>118006</th>\n      <td>White Lightning</td>\n      <td>Burt Reynolds, Louise Latham, Joseph Sargent, ...</td>\n      <td>75%, 75%, 75%, 75%, 75%, 75%, 75%, 75%, 75%, 75%</td>\n      <td>62%, 62%, 62%, 62%, 62%, 62%, 62%, 62%, 62%, 62%</td>\n      <td>Gator McKlusky (Character), Martha Culpepper (...</td>\n      <td>-, -, -, -, -, -, -, -, -, -</td>\n      <td>1973, 1973, 1973, 1973, 1973, 1973, 1973, 1973...</td>\n    </tr>\n    <tr>\n      <th>5020</th>\n      <td>Africa paradis</td>\n      <td>Eriq Ebouaney</td>\n      <td>No Score Yet</td>\n      <td>No Score Yet</td>\n      <td>M'Doula (Character)</td>\n      <td>-</td>\n      <td>2006</td>\n    </tr>\n    <tr>\n      <th>114819</th>\n      <td>Vampitheatre</td>\n      <td>Linnea Quigley</td>\n      <td>No Score Yet</td>\n      <td>No Score Yet</td>\n      <td>The Queen (Character)</td>\n      <td>-</td>\n      <td>2009</td>\n    </tr>\n    <tr>\n      <th>47188</th>\n      <td>Iron Man 3</td>\n      <td>Jon Favreau, Paul Bettany, Guy Pearce, Gwyneth...</td>\n      <td>79%, 79%, 79%, 79%, 79%, 79%, 79%, 79%, 79%, 7...</td>\n      <td>78%, 78%, 78%, 78%, 78%, 78%, 78%, 78%, 78%, 7...</td>\n      <td>Happy Hogan (Character),Executive Producer, Ja...</td>\n      <td>$409.0M, $409.0M, $409.0M, $409.0M, $409.0M, $...</td>\n      <td>2013, 2013, 2013, 2013, 2013, 2013, 2013, 2013...</td>\n    </tr>\n    <tr>\n      <th>62272</th>\n      <td>Moonshiners</td>\n      <td>Jeremy Schwartz</td>\n      <td>No Score Yet</td>\n      <td>No Score Yet</td>\n      <td>Narrator</td>\n      <td>-</td>\n      <td>2011-2022</td>\n    </tr>\n    <tr>\n      <th>111198</th>\n      <td>Tokyo: The Last Megalopolis</td>\n      <td>Shintarô Katsu</td>\n      <td>No Score Yet</td>\n      <td>42%</td>\n      <td>Eichi Shibusawa (Voice)</td>\n      <td>-</td>\n      <td>1988</td>\n    </tr>\n    <tr>\n      <th>15152</th>\n      <td>Bongu</td>\n      <td>Atul Kulkarni</td>\n      <td>No Score Yet</td>\n      <td>No Score Yet</td>\n      <td>Unknown (Character)</td>\n      <td>-</td>\n      <td>2017</td>\n    </tr>\n    <tr>\n      <th>1172</th>\n      <td>60 Vayadu Maaniram</td>\n      <td>Prakash Raj, Samuthirakani</td>\n      <td>No Score Yet, No Score Yet</td>\n      <td>No Score Yet, No Score Yet</td>\n      <td>Govindarajan (Character), Ranga (Character)</td>\n      <td>-, -</td>\n      <td>2018, 2018</td>\n    </tr>\n    <tr>\n      <th>85479</th>\n      <td>Standby</td>\n      <td>Andrew Paul, Alexa Morden</td>\n      <td>No Score Yet, No Score Yet</td>\n      <td>No Score Yet, No Score Yet</td>\n      <td>Gary (Character), Jenny (Character)</td>\n      <td>-, -</td>\n      <td>2016, 2016</td>\n    </tr>\n    <tr>\n      <th>92329</th>\n      <td>The Butcher's Son</td>\n      <td>Manny Perez, Denise Quiñones, Margo Martindale...</td>\n      <td>44%, 44%, 44%, 44%, 44%</td>\n      <td>73%, 73%, 73%, 73%, 73%</td>\n      <td>Luisito (Character),Screenwriter, Jenny (Chara...</td>\n      <td>$210.6K, $210.6K, $210.6K, $210.6K, $210.6K</td>\n      <td>2009, 2009, 2009, 2009, 2009</td>\n    </tr>\n    <tr>\n      <th>4473</th>\n      <td>Access Hollywood</td>\n      <td>Zendaya, Laverne Cox, Tom Holland, Katie Lowes...</td>\n      <td>No Score Yet, No Score Yet, No Score Yet, No S...</td>\n      <td>No Score Yet, No Score Yet, No Score Yet, No S...</td>\n      <td>Guest, Guest, Guest, Guest, Guest, Guest, Gues...</td>\n      <td>-, -, -, -, -, -, -, -, -, -, -, -, -, -, -, -...</td>\n      <td>201620192021-2022, 2016-2017, 2021, 2015, 2019...</td>\n    </tr>\n    <tr>\n      <th>58089</th>\n      <td>Make Like a Thief</td>\n      <td>Richard Long</td>\n      <td>No Score Yet</td>\n      <td>No Score Yet</td>\n      <td>V. Bartley \"Bart\" Lanigan (Character),Director</td>\n      <td>-</td>\n      <td>1966</td>\n    </tr>\n    <tr>\n      <th>28989</th>\n      <td>Dreamstates</td>\n      <td>William Nadylam</td>\n      <td>No Score Yet</td>\n      <td>No Score Yet</td>\n      <td>Self</td>\n      <td>-</td>\n      <td>2016</td>\n    </tr>\n    <tr>\n      <th>24391</th>\n      <td>Dark Seduction</td>\n      <td>Elizabeth Cervantes, Joe Alaskey, Stacey Travis</td>\n      <td>No Score Yet, No Score Yet, No Score Yet</td>\n      <td>No Score Yet, No Score Yet, No Score Yet</td>\n      <td>Laura (Character), Fatman (Character), Laura (...</td>\n      <td>-, -, -</td>\n      <td>2011, 2015, 2015</td>\n    </tr>\n    <tr>\n      <th>55257</th>\n      <td>Live Nude Girls</td>\n      <td>Mindy Robinson, Dave Foley, Kristen DeLuca, An...</td>\n      <td>No Score Yet, No Score Yet, No Score Yet, No S...</td>\n      <td>54%, 54%, 54%, 54%, 54%</td>\n      <td>Amber (Character), Harry (Character), Layla (C...</td>\n      <td>-, -, -, -, -</td>\n      <td>2014, 2014, 2014, 2014, 2014</td>\n    </tr>\n    <tr>\n      <th>72778</th>\n      <td>Precious Find</td>\n      <td>Rutger Hauer, Philippe Mora, Brion James, Joan...</td>\n      <td>No Score Yet, No Score Yet, No Score Yet, No S...</td>\n      <td>8%, 8%, 8%, 8%, 8%</td>\n      <td>Armond Crille (Character), Director, Sam Horto...</td>\n      <td>-, -, -, -, -</td>\n      <td>1996, 1996, 1996, 1996, 1996</td>\n    </tr>\n  </tbody>\n</table>\n</div>"
     },
     "execution_count": 35,
     "metadata": {},
     "output_type": "execute_result"
    }
   ],
   "source": [
    "# temp2Df = tempDf.groupby(['Title'], as_index=False).apply(lambda x: \", \".join(x['Cast']))\n",
    "temp2Df = tempDf.groupby(['Title', 'Tomatometer', 'Box_Office'], as_index=False).agg({'Cast': lambda x: \", \".join(x),\n",
    "                                                         \"Tomatometer\": lambda x: \", \".join(x),\n",
    "                                                         \"Audience_Score\": lambda x: \", \".join(x),\n",
    "                                                         \"Character\": lambda x: \", \".join(x),\n",
    "                                                         \"Box_Office\": lambda x: \", \".join(x),\n",
    "                                                         \"Year\": lambda x: \", \".join(x),\n",
    "                                                         })\n",
    "temp2Df.sample(50)"
   ]
  },
  {
   "cell_type": "code",
   "execution_count": 36,
   "metadata": {
    "pycharm": {
     "name": "#%%\n"
    }
   },
   "outputs": [
    {
     "data": {
      "text/plain": "index             736149\nTomatometer       736149\nAudience_Score    736149\nTitle             736149\nCharacter         736149\nBox_Office        736149\nYear              736149\nCast              736149\ndtype: int64"
     },
     "execution_count": 36,
     "metadata": {},
     "output_type": "execute_result"
    }
   ],
   "source": [
    "tempDf.count()"
   ]
  },
  {
   "cell_type": "code",
   "execution_count": 37,
   "metadata": {
    "pycharm": {
     "name": "#%%\n"
    }
   },
   "outputs": [
    {
     "data": {
      "text/plain": "Title             121132\nCast              121132\nTomatometer       121132\nAudience_Score    121132\nCharacter         121132\nBox_Office        121132\nYear              121132\ndtype: int64"
     },
     "execution_count": 37,
     "metadata": {},
     "output_type": "execute_result"
    }
   ],
   "source": [
    "temp2Df.count()"
   ]
  },
  {
   "cell_type": "code",
   "execution_count": 38,
   "metadata": {
    "pycharm": {
     "name": "#%%\n"
    }
   },
   "outputs": [
    {
     "data": {
      "text/plain": "                              Title  \\\n28782                   Dragon Fire   \n46789                       Instant   \n81181           Shame, Shame, Shame   \n67864                        On Ice   \n47377         Isn't Life Wonderful?   \n86264                        Storge   \n17579                       Calumet   \n89557                           Tex   \n4246   Abacus: Small Enough to Jail   \n35623                     Free Solo   \n\n                                                    Cast  \\\n28782                                      Rick Jacobson   \n46789              Tara Perry, Tyler Hilton, Emily Chang   \n81181  Zalman King, Heidi Schanz, Costas Mandylor, Va...   \n67864                          Pinto Colvig, Walt Disney   \n47377                        Cecil Parker, Dianne Foster   \n86264                                       Sarah Wright   \n17579                                   Austin Pendleton   \n89557  Meg Tilly, Matt Dillon, Emilio Estevez, Jim Me...   \n4246                                       Julie Goldman   \n35623  Alex Honnold, Marco Beltrami, Sanni McCandless...   \n\n                                             Tomatometer  \\\n28782                                       No Score Yet   \n46789           No Score Yet, No Score Yet, No Score Yet   \n81181  No Score Yet, No Score Yet, No Score Yet, No S...   \n67864                         No Score Yet, No Score Yet   \n47377                         No Score Yet, No Score Yet   \n86264                                       No Score Yet   \n17579                                       No Score Yet   \n89557             85%, 85%, 85%, 85%, 85%, 85%, 85%, 85%   \n4246                                                 93%   \n35623                                 97%, 97%, 97%, 97%   \n\n                                          Audience_Score  \\\n28782                                                77%   \n46789           No Score Yet, No Score Yet, No Score Yet   \n81181  No Score Yet, No Score Yet, No Score Yet, No S...   \n67864                         No Score Yet, No Score Yet   \n47377                         No Score Yet, No Score Yet   \n86264                                       No Score Yet   \n17579                                       No Score Yet   \n89557             65%, 65%, 65%, 65%, 65%, 65%, 65%, 65%   \n4246                                                 84%   \n35623                                 93%, 93%, 93%, 93%   \n\n                                               Character  \\\n28782                                           Director   \n46789  Unknown (Character), Unknown (Character), Unkn...   \n81181  Director, Unknown (Character), Mark (Character...   \n67864  Goofy / Pluto (Voice), Mickey Mouse (Voice),Pr...   \n47377  Father (Character), Virginia van Stuyden (Char...   \n86264                                Unknown (Character)   \n17579                                    Ira (Character)   \n89557  Jamie Collins (Character), Tex McCormick (Char...   \n4246                                            Producer   \n35623  Self, Original Music, Self, Self,Director,Prod...   \n\n                           Box_Office  \\\n28782                               -   \n46789                         -, -, -   \n81181                      -, -, -, -   \n67864                            -, -   \n47377                            -, -   \n86264                               -   \n17579                               -   \n89557          -, -, -, -, -, -, -, -   \n4246                          $111.8K   \n35623  $17.5M, $17.5M, $17.5M, $17.5M   \n\n                                                 Year  \n28782                                            1993  \n46789                                2015, 2015, 2015  \n81181                          1997, 1997, 1997, 1997  \n67864                                      1935, 1935  \n47377                                      1952, 1952  \n86264                                            2016  \n17579                                            2014  \n89557  1982, 1982, 1982, 1982, 1982, 1982, 1982, 1982  \n4246                                             2016  \n35623                          2018, 2018, 2018, 2018  ",
      "text/html": "<div>\n<style scoped>\n    .dataframe tbody tr th:only-of-type {\n        vertical-align: middle;\n    }\n\n    .dataframe tbody tr th {\n        vertical-align: top;\n    }\n\n    .dataframe thead th {\n        text-align: right;\n    }\n</style>\n<table border=\"1\" class=\"dataframe\">\n  <thead>\n    <tr style=\"text-align: right;\">\n      <th></th>\n      <th>Title</th>\n      <th>Cast</th>\n      <th>Tomatometer</th>\n      <th>Audience_Score</th>\n      <th>Character</th>\n      <th>Box_Office</th>\n      <th>Year</th>\n    </tr>\n  </thead>\n  <tbody>\n    <tr>\n      <th>28782</th>\n      <td>Dragon Fire</td>\n      <td>Rick Jacobson</td>\n      <td>No Score Yet</td>\n      <td>77%</td>\n      <td>Director</td>\n      <td>-</td>\n      <td>1993</td>\n    </tr>\n    <tr>\n      <th>46789</th>\n      <td>Instant</td>\n      <td>Tara Perry, Tyler Hilton, Emily Chang</td>\n      <td>No Score Yet, No Score Yet, No Score Yet</td>\n      <td>No Score Yet, No Score Yet, No Score Yet</td>\n      <td>Unknown (Character), Unknown (Character), Unkn...</td>\n      <td>-, -, -</td>\n      <td>2015, 2015, 2015</td>\n    </tr>\n    <tr>\n      <th>81181</th>\n      <td>Shame, Shame, Shame</td>\n      <td>Zalman King, Heidi Schanz, Costas Mandylor, Va...</td>\n      <td>No Score Yet, No Score Yet, No Score Yet, No S...</td>\n      <td>No Score Yet, No Score Yet, No Score Yet, No S...</td>\n      <td>Director, Unknown (Character), Mark (Character...</td>\n      <td>-, -, -, -</td>\n      <td>1997, 1997, 1997, 1997</td>\n    </tr>\n    <tr>\n      <th>67864</th>\n      <td>On Ice</td>\n      <td>Pinto Colvig, Walt Disney</td>\n      <td>No Score Yet, No Score Yet</td>\n      <td>No Score Yet, No Score Yet</td>\n      <td>Goofy / Pluto (Voice), Mickey Mouse (Voice),Pr...</td>\n      <td>-, -</td>\n      <td>1935, 1935</td>\n    </tr>\n    <tr>\n      <th>47377</th>\n      <td>Isn't Life Wonderful?</td>\n      <td>Cecil Parker, Dianne Foster</td>\n      <td>No Score Yet, No Score Yet</td>\n      <td>No Score Yet, No Score Yet</td>\n      <td>Father (Character), Virginia van Stuyden (Char...</td>\n      <td>-, -</td>\n      <td>1952, 1952</td>\n    </tr>\n    <tr>\n      <th>86264</th>\n      <td>Storge</td>\n      <td>Sarah Wright</td>\n      <td>No Score Yet</td>\n      <td>No Score Yet</td>\n      <td>Unknown (Character)</td>\n      <td>-</td>\n      <td>2016</td>\n    </tr>\n    <tr>\n      <th>17579</th>\n      <td>Calumet</td>\n      <td>Austin Pendleton</td>\n      <td>No Score Yet</td>\n      <td>No Score Yet</td>\n      <td>Ira (Character)</td>\n      <td>-</td>\n      <td>2014</td>\n    </tr>\n    <tr>\n      <th>89557</th>\n      <td>Tex</td>\n      <td>Meg Tilly, Matt Dillon, Emilio Estevez, Jim Me...</td>\n      <td>85%, 85%, 85%, 85%, 85%, 85%, 85%, 85%</td>\n      <td>65%, 65%, 65%, 65%, 65%, 65%, 65%, 65%</td>\n      <td>Jamie Collins (Character), Tex McCormick (Char...</td>\n      <td>-, -, -, -, -, -, -, -</td>\n      <td>1982, 1982, 1982, 1982, 1982, 1982, 1982, 1982</td>\n    </tr>\n    <tr>\n      <th>4246</th>\n      <td>Abacus: Small Enough to Jail</td>\n      <td>Julie Goldman</td>\n      <td>93%</td>\n      <td>84%</td>\n      <td>Producer</td>\n      <td>$111.8K</td>\n      <td>2016</td>\n    </tr>\n    <tr>\n      <th>35623</th>\n      <td>Free Solo</td>\n      <td>Alex Honnold, Marco Beltrami, Sanni McCandless...</td>\n      <td>97%, 97%, 97%, 97%</td>\n      <td>93%, 93%, 93%, 93%</td>\n      <td>Self, Original Music, Self, Self,Director,Prod...</td>\n      <td>$17.5M, $17.5M, $17.5M, $17.5M</td>\n      <td>2018, 2018, 2018, 2018</td>\n    </tr>\n  </tbody>\n</table>\n</div>"
     },
     "execution_count": 38,
     "metadata": {},
     "output_type": "execute_result"
    }
   ],
   "source": [
    "temp2Df.sample(10)"
   ]
  },
  {
   "cell_type": "code",
   "execution_count": 39,
   "metadata": {
    "pycharm": {
     "name": "#%%\n"
    }
   },
   "outputs": [],
   "source": [
    "temp2Df['Tomatometer'] = temp2Df['Tomatometer'].str.split(\", \").str[0]\n",
    "temp2Df['Audience_Score'] = temp2Df['Audience_Score'].str.split(\", \").str[0]\n",
    "temp2Df['Box_Office'] = temp2Df['Box_Office'].str.split(\", \").str[0]\n",
    "temp2Df['Year'] = temp2Df['Year'].str.split(\", \").str[0]"
   ]
  },
  {
   "cell_type": "code",
   "execution_count": 40,
   "metadata": {
    "pycharm": {
     "name": "#%%\n"
    }
   },
   "outputs": [
    {
     "data": {
      "text/plain": "                                    Title  \\\n32749                              Faraar   \n9828                        Aval Varuvala   \n93175                         The Commune   \n65579                        Newly Single   \n46068                         In memoriam   \n88134                     Sylvia Scarlett   \n55696                          Longstreet   \n95305                            The Fall   \n29392                Dushmanon Ka Dushman   \n62172  Monty Python's The Meaning of Life   \n\n                                                    Cast   Tomatometer  \\\n32749  Sharmila Tagore, Sanjeev Kumar, Gippy Grewal, ...  No Score Yet   \n9828                                         Ajith Kumar  No Score Yet   \n93175  Lars Ranthe, Tobias Lindholm, Magnus Millang, ...           71%   \n65579    Molly C. Quinn, Marguerite Moreau, Jennifer Kim           88%   \n46068                 Eusebio Poncela, Geraldine Chaplin  No Score Yet   \n88134  Cary Grant, Brian Aherne, Edmund Gwenn, Kathar...           73%   \n55696  Susan Oliver, Peggy McCay, Peter Haskell, Tim ...  No Score Yet   \n95305  Jamie Dornan, Gillian Anderson, Aisling Franci...           84%   \n29392                              Brahmanandam, Nithiin  No Score Yet   \n62172  Patricia Quinn, Judy Loe, Terry Gilliam, John ...           86%   \n\n      Audience_Score                                          Character  \\\n32749   No Score Yet  Mala/Asha (Character), Inspector Sanjay (Chara...   \n9828    No Score Yet                                  Jeeva (Character)   \n93175            59%  Ole (Character), Screenwriter, Steffen (Charac...   \n65579            84%  Valerie (Character), Charlee (Character), Izzy...   \n46068   No Score Yet           Unknown (Character), Unknown (Character)   \n88134            47%  Jimmy \"Monk\" Monkley (Character), Michael Fane...   \n55696   No Score Yet  Unknown (Guest Star), Unknown (Guest Star), Un...   \n95305            86%  Paul Spector (Character), Stella Gibson (Chara...   \n29392   No Score Yet           Unknown (Character), Unknown (Character)   \n62172            83%  Mrs. Williams (Character), Nurse #1 (Character...   \n\n      Box_Office           Year  \n32749          -           1975  \n9828           -           1998  \n93175     $38.3K           2016  \n65579          -           2017  \n46068          -           1976  \n88134          -           1935  \n55696          -           1971  \n95305          -  2013-20142016  \n29392          -           2011  \n62172          -           1983  ",
      "text/html": "<div>\n<style scoped>\n    .dataframe tbody tr th:only-of-type {\n        vertical-align: middle;\n    }\n\n    .dataframe tbody tr th {\n        vertical-align: top;\n    }\n\n    .dataframe thead th {\n        text-align: right;\n    }\n</style>\n<table border=\"1\" class=\"dataframe\">\n  <thead>\n    <tr style=\"text-align: right;\">\n      <th></th>\n      <th>Title</th>\n      <th>Cast</th>\n      <th>Tomatometer</th>\n      <th>Audience_Score</th>\n      <th>Character</th>\n      <th>Box_Office</th>\n      <th>Year</th>\n    </tr>\n  </thead>\n  <tbody>\n    <tr>\n      <th>32749</th>\n      <td>Faraar</td>\n      <td>Sharmila Tagore, Sanjeev Kumar, Gippy Grewal, ...</td>\n      <td>No Score Yet</td>\n      <td>No Score Yet</td>\n      <td>Mala/Asha (Character), Inspector Sanjay (Chara...</td>\n      <td>-</td>\n      <td>1975</td>\n    </tr>\n    <tr>\n      <th>9828</th>\n      <td>Aval Varuvala</td>\n      <td>Ajith Kumar</td>\n      <td>No Score Yet</td>\n      <td>No Score Yet</td>\n      <td>Jeeva (Character)</td>\n      <td>-</td>\n      <td>1998</td>\n    </tr>\n    <tr>\n      <th>93175</th>\n      <td>The Commune</td>\n      <td>Lars Ranthe, Tobias Lindholm, Magnus Millang, ...</td>\n      <td>71%</td>\n      <td>59%</td>\n      <td>Ole (Character), Screenwriter, Steffen (Charac...</td>\n      <td>$38.3K</td>\n      <td>2016</td>\n    </tr>\n    <tr>\n      <th>65579</th>\n      <td>Newly Single</td>\n      <td>Molly C. Quinn, Marguerite Moreau, Jennifer Kim</td>\n      <td>88%</td>\n      <td>84%</td>\n      <td>Valerie (Character), Charlee (Character), Izzy...</td>\n      <td>-</td>\n      <td>2017</td>\n    </tr>\n    <tr>\n      <th>46068</th>\n      <td>In memoriam</td>\n      <td>Eusebio Poncela, Geraldine Chaplin</td>\n      <td>No Score Yet</td>\n      <td>No Score Yet</td>\n      <td>Unknown (Character), Unknown (Character)</td>\n      <td>-</td>\n      <td>1976</td>\n    </tr>\n    <tr>\n      <th>88134</th>\n      <td>Sylvia Scarlett</td>\n      <td>Cary Grant, Brian Aherne, Edmund Gwenn, Kathar...</td>\n      <td>73%</td>\n      <td>47%</td>\n      <td>Jimmy \"Monk\" Monkley (Character), Michael Fane...</td>\n      <td>-</td>\n      <td>1935</td>\n    </tr>\n    <tr>\n      <th>55696</th>\n      <td>Longstreet</td>\n      <td>Susan Oliver, Peggy McCay, Peter Haskell, Tim ...</td>\n      <td>No Score Yet</td>\n      <td>No Score Yet</td>\n      <td>Unknown (Guest Star), Unknown (Guest Star), Un...</td>\n      <td>-</td>\n      <td>1971</td>\n    </tr>\n    <tr>\n      <th>95305</th>\n      <td>The Fall</td>\n      <td>Jamie Dornan, Gillian Anderson, Aisling Franci...</td>\n      <td>84%</td>\n      <td>86%</td>\n      <td>Paul Spector (Character), Stella Gibson (Chara...</td>\n      <td>-</td>\n      <td>2013-20142016</td>\n    </tr>\n    <tr>\n      <th>29392</th>\n      <td>Dushmanon Ka Dushman</td>\n      <td>Brahmanandam, Nithiin</td>\n      <td>No Score Yet</td>\n      <td>No Score Yet</td>\n      <td>Unknown (Character), Unknown (Character)</td>\n      <td>-</td>\n      <td>2011</td>\n    </tr>\n    <tr>\n      <th>62172</th>\n      <td>Monty Python's The Meaning of Life</td>\n      <td>Patricia Quinn, Judy Loe, Terry Gilliam, John ...</td>\n      <td>86%</td>\n      <td>83%</td>\n      <td>Mrs. Williams (Character), Nurse #1 (Character...</td>\n      <td>-</td>\n      <td>1983</td>\n    </tr>\n  </tbody>\n</table>\n</div>"
     },
     "execution_count": 40,
     "metadata": {},
     "output_type": "execute_result"
    }
   ],
   "source": [
    "temp2Df.sample(10)"
   ]
  },
  {
   "cell_type": "code",
   "execution_count": 41,
   "metadata": {
    "pycharm": {
     "name": "#%%\n"
    }
   },
   "outputs": [],
   "source": [
    "temp2Df.to_csv(\"finalisedSeriesList2.csv\")"
   ]
  },
  {
   "cell_type": "code",
   "execution_count": 42,
   "metadata": {
    "pycharm": {
     "name": "#%%\n"
    }
   },
   "outputs": [],
   "source": [
    "temp3Df = temp2Df.groupby('Title')"
   ]
  },
  {
   "cell_type": "code",
   "execution_count": 43,
   "metadata": {
    "scrolled": true,
    "pycharm": {
     "name": "#%%\n"
    }
   },
   "outputs": [
    {
     "data": {
      "text/plain": "                          Title                                        Cast  \\\n0              !T Girls Besties                             Solenn Heussaff   \n1                      #ABtalks                          Mona Zaki, Youssra   \n2  #AnneFrank. Parallel Stories                           Dame Helen Mirren   \n3           #DigitalLivesMatter  Carlos Aviles, Franco Castan, David Banner   \n4                     #FollowMe                    Sam Hardy, Tyler Gallant   \n\n    Tomatometer Audience_Score  \\\n0  No Score Yet   No Score Yet   \n1  No Score Yet   No Score Yet   \n2          100%   No Score Yet   \n3  No Score Yet   No Score Yet   \n4  No Score Yet            38%   \n\n                                           Character Box_Office  Year  \n0                                               Self          -  2020  \n1                                       Guest, Guest          -  2021  \n2                                               Self          -  2019  \n3  Mouse (Character), Duncan Davis (Character), P...          -  2016  \n4              Jake (Character), Brandon (Character)          -  2019  ",
      "text/html": "<div>\n<style scoped>\n    .dataframe tbody tr th:only-of-type {\n        vertical-align: middle;\n    }\n\n    .dataframe tbody tr th {\n        vertical-align: top;\n    }\n\n    .dataframe thead th {\n        text-align: right;\n    }\n</style>\n<table border=\"1\" class=\"dataframe\">\n  <thead>\n    <tr style=\"text-align: right;\">\n      <th></th>\n      <th>Title</th>\n      <th>Cast</th>\n      <th>Tomatometer</th>\n      <th>Audience_Score</th>\n      <th>Character</th>\n      <th>Box_Office</th>\n      <th>Year</th>\n    </tr>\n  </thead>\n  <tbody>\n    <tr>\n      <th>0</th>\n      <td>!T Girls Besties</td>\n      <td>Solenn Heussaff</td>\n      <td>No Score Yet</td>\n      <td>No Score Yet</td>\n      <td>Self</td>\n      <td>-</td>\n      <td>2020</td>\n    </tr>\n    <tr>\n      <th>1</th>\n      <td>#ABtalks</td>\n      <td>Mona Zaki, Youssra</td>\n      <td>No Score Yet</td>\n      <td>No Score Yet</td>\n      <td>Guest, Guest</td>\n      <td>-</td>\n      <td>2021</td>\n    </tr>\n    <tr>\n      <th>2</th>\n      <td>#AnneFrank. Parallel Stories</td>\n      <td>Dame Helen Mirren</td>\n      <td>100%</td>\n      <td>No Score Yet</td>\n      <td>Self</td>\n      <td>-</td>\n      <td>2019</td>\n    </tr>\n    <tr>\n      <th>3</th>\n      <td>#DigitalLivesMatter</td>\n      <td>Carlos Aviles, Franco Castan, David Banner</td>\n      <td>No Score Yet</td>\n      <td>No Score Yet</td>\n      <td>Mouse (Character), Duncan Davis (Character), P...</td>\n      <td>-</td>\n      <td>2016</td>\n    </tr>\n    <tr>\n      <th>4</th>\n      <td>#FollowMe</td>\n      <td>Sam Hardy, Tyler Gallant</td>\n      <td>No Score Yet</td>\n      <td>38%</td>\n      <td>Jake (Character), Brandon (Character)</td>\n      <td>-</td>\n      <td>2019</td>\n    </tr>\n  </tbody>\n</table>\n</div>"
     },
     "execution_count": 43,
     "metadata": {},
     "output_type": "execute_result"
    }
   ],
   "source": [
    "temp2Df.head()"
   ]
  },
  {
   "cell_type": "code",
   "execution_count": 43,
   "metadata": {
    "pycharm": {
     "name": "#%%\n"
    }
   },
   "outputs": [],
   "source": []
  },
  {
   "cell_type": "code",
   "execution_count": 43,
   "metadata": {
    "pycharm": {
     "name": "#%%\n"
    }
   },
   "outputs": [],
   "source": []
  }
 ],
 "metadata": {
  "kernelspec": {
   "display_name": "Python 3 (ipykernel)",
   "language": "python",
   "name": "python3"
  },
  "language_info": {
   "codemirror_mode": {
    "name": "ipython",
    "version": 3
   },
   "file_extension": ".py",
   "mimetype": "text/x-python",
   "name": "python",
   "nbconvert_exporter": "python",
   "pygments_lexer": "ipython3",
   "version": "3.8.9"
  }
 },
 "nbformat": 4,
 "nbformat_minor": 1
}